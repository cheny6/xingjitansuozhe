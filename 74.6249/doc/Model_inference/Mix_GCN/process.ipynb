{
 "cells": [
  {
   "cell_type": "code",
   "execution_count": 7,
   "metadata": {},
   "outputs": [
    {
     "name": "stdout",
     "output_type": "stream",
     "text": [
      "Looking in indexes: https://mirrors.bfsu.edu.cn/pypi/web/simple\n",
      "Requirement already satisfied: h5py in /home/gwork/cx/.venv/lib/python3.11/site-packages (3.12.1)\n",
      "Collecting torchpack==0.0.13\n",
      "  Downloading https://mirrors.bfsu.edu.cn/pypi/web/packages/a4/f2/5af391ba0be1430b518637b49fd25f52d9341f4825b98c10e41d2fe9ba0c/torchpack-0.0.13-py3-none-any.whl (17 kB)\n",
      "Collecting cvbase (from torchpack==0.0.13)\n",
      "  Downloading https://mirrors.bfsu.edu.cn/pypi/web/packages/74/08/551f262dd4535424b19723f686b84ac30b436d996191f90de42d739db64c/cvbase-0.5.5-py2.py3-none-any.whl (45 kB)\n",
      "Requirement already satisfied: six in /home/gwork/cx/.venv/lib/python3.11/site-packages (from torchpack==0.0.13) (1.16.0)\n",
      "Requirement already satisfied: numpy>=1.19.3 in /home/gwork/cx/.venv/lib/python3.11/site-packages (from h5py) (2.0.2)\n",
      "Requirement already satisfied: pyyaml in /home/gwork/cx/.venv/lib/python3.11/site-packages (from cvbase->torchpack==0.0.13) (6.0.2)\n",
      "Collecting terminaltables (from cvbase->torchpack==0.0.13)\n",
      "  Downloading https://mirrors.bfsu.edu.cn/pypi/web/packages/c4/fb/ea621e0a19733e01fe4005d46087d383693c0f4a8f824b47d8d4122c87e0/terminaltables-3.1.10-py2.py3-none-any.whl (15 kB)\n",
      "Installing collected packages: terminaltables, cvbase, torchpack\n",
      "  Attempting uninstall: torchpack\n",
      "    Found existing installation: torchpack 0.3.1\n",
      "    Uninstalling torchpack-0.3.1:\n",
      "      Successfully uninstalled torchpack-0.3.1\n",
      "Successfully installed cvbase-0.5.5 terminaltables-3.1.10 torchpack-0.0.13\n"
     ]
    }
   ],
   "source": [
    "!pip install h5py torchpack==0.0.13"
   ]
  },
  {
   "cell_type": "code",
   "execution_count": null,
   "metadata": {},
   "outputs": [],
   "source": []
  }
 ],
 "metadata": {
  "kernelspec": {
   "display_name": ".venv",
   "language": "python",
   "name": "python3"
  },
  "language_info": {
   "codemirror_mode": {
    "name": "ipython",
    "version": 3
   },
   "file_extension": ".py",
   "mimetype": "text/x-python",
   "name": "python",
   "nbconvert_exporter": "python",
   "pygments_lexer": "ipython3",
   "version": "3.11.2"
  }
 },
 "nbformat": 4,
 "nbformat_minor": 2
}
